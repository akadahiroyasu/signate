{
 "cells": [
  {
   "cell_type": "markdown",
   "metadata": {},
   "source": [
    "# PART3 パラメータをチューニングしてみよう"
   ]
  },
  {
   "cell_type": "markdown",
   "metadata": {},
   "source": [
    "## おまじない"
   ]
  },
  {
   "cell_type": "code",
   "execution_count": 1,
   "metadata": {},
   "outputs": [],
   "source": [
    "import pandas as pd\n",
    "import numpy as np\n",
    "#matplotlib inline\n",
    "from matplotlib import pyplot as plt\n",
    "\n",
    "from sklearn.tree import DecisionTreeClassifier as DT\n",
    "from sklearn.model_selection import cross_validate\n",
    "from sklearn.model_selection import GridSearchCV\n"
   ]
  },
  {
   "cell_type": "markdown",
   "metadata": {},
   "source": [
    "## データの読み込み\n",
    "- train.csvとtest.csvとsubmit_sample.csvの３つのファイルを読み込みましょう\n",
    "- それぞれを読み込んだものは変数はtrain, test, sampleに代入しましょう"
   ]
  },
  {
   "cell_type": "code",
   "execution_count": 2,
   "metadata": {},
   "outputs": [],
   "source": [
    "train = pd.read_csv(\"bank/train.csv\")\n",
    "test = pd.read_csv(\"bank/test.csv\")\n",
    "sample = pd.read_csv(\"bank/submit_sample.csv\", header=None)"
   ]
  },
  {
   "cell_type": "markdown",
   "metadata": {},
   "source": [
    "## trainから説明変数となるデータを取り出しましょう\n",
    "- iloc[]を使います\n",
    "- y以外を説明変数として取り出し、変数trainXに代入しましょう"
   ]
  },
  {
   "cell_type": "code",
   "execution_count": 3,
   "metadata": {},
   "outputs": [],
   "source": [
    "trainX = train.iloc[:, 0:17]"
   ]
  },
  {
   "cell_type": "markdown",
   "metadata": {},
   "source": [
    "## trainから目的変数となるデータを取り出しましょう\n",
    "- yを選択し、変数yに代入しましょう"
   ]
  },
  {
   "cell_type": "code",
   "execution_count": 4,
   "metadata": {},
   "outputs": [],
   "source": [
    "y = train[\"y\"]"
   ]
  },
  {
   "cell_type": "markdown",
   "metadata": {},
   "source": [
    "## testから説明変数となるデータを取り出しましょう\n",
    "- testの全てのカラムが説明変数となりますので、copy関数を使って変数testXに代入します"
   ]
  },
  {
   "cell_type": "code",
   "execution_count": 5,
   "metadata": {},
   "outputs": [],
   "source": [
    "testX = test.copy()"
   ]
  },
  {
   "cell_type": "markdown",
   "metadata": {},
   "source": [
    "## trainXとtestXをダミー変数化しましょう"
   ]
  },
  {
   "cell_type": "code",
   "execution_count": 6,
   "metadata": {},
   "outputs": [],
   "source": [
    "trainX = pd.get_dummies(trainX)\n",
    "testX = pd.get_dummies(testX)"
   ]
  },
  {
   "cell_type": "markdown",
   "metadata": {},
   "source": [
    "## 決定木モデルの箱を用意しましょう\n",
    "- 変数名をclf1とし、DT()を代入しましょう\n",
    "- パラメータは一旦、max_depth=2, min_samples_leaf=500としましょう"
   ]
  },
  {
   "cell_type": "code",
   "execution_count": 7,
   "metadata": {},
   "outputs": [],
   "source": [
    "clf1 = DT(max_depth=2, min_samples_leaf=500)"
   ]
  },
  {
   "cell_type": "markdown",
   "metadata": {},
   "source": [
    "## クロスバリデーションをしてclf1の精度を確かめてみましょう\n",
    "- cross_validate関数を使います\n",
    "- オプションには、clf1, trainX, y, cv=5, scoring=\"roc_auc\",n_jobs=-1と書きます"
   ]
  },
  {
   "cell_type": "code",
   "execution_count": 8,
   "metadata": {},
   "outputs": [
    {
     "data": {
      "text/plain": [
       "{'fit_time': array([0.09075665, 0.09275174, 0.08975959, 0.08677125, 0.06183434]),\n 'score_time': array([0.01795173, 0.00997329, 0.01196837, 0.0099709 , 0.00598288]),\n 'test_score': array([0.74657601, 0.76182968, 0.73117591, 0.73708019, 0.75909278]),\n 'train_score': array([0.74534692, 0.74543889, 0.75305367, 0.75162308, 0.74613685])}"
      ]
     },
     "execution_count": 8,
     "metadata": {},
     "output_type": "execute_result"
    }
   ],
   "source": [
    "cross_validate(clf1, trainX, y, cv=5, scoring=\"roc_auc\",n_jobs=-1, return_train_score=True )"
   ]
  },
  {
   "cell_type": "markdown",
   "metadata": {},
   "source": [
    "## 異なるパラメータでもう一度決定木の箱を準備しましょう\n",
    "- 変数はclf2としましょう\n",
    "- パラメータはmax_depth=10, min_samples_leaf=500としましょう"
   ]
  },
  {
   "cell_type": "code",
   "execution_count": 9,
   "metadata": {},
   "outputs": [],
   "source": [
    "clf2 = DT(max_depth=10, min_samples_leaf=500)"
   ]
  },
  {
   "cell_type": "markdown",
   "metadata": {},
   "source": [
    "## クロスバリデーションをしてclf2の精度を確かめてみましょう"
   ]
  },
  {
   "cell_type": "code",
   "execution_count": 10,
   "metadata": {},
   "outputs": [
    {
     "data": {
      "text/plain": [
       "{'fit_time': array([0.22938466, 0.27725792, 0.20943856, 0.20345569, 0.13467002]),\n 'score_time': array([0.00997376, 0.00797868, 0.00698256, 0.03191423, 0.00498891]),\n 'test_score': array([0.88264002, 0.88482571, 0.86778474, 0.89240308, 0.88344359]),\n 'train_score': array([0.88842017, 0.89038512, 0.89288003, 0.88763037, 0.88561317])}"
      ]
     },
     "execution_count": 10,
     "metadata": {},
     "output_type": "execute_result"
    }
   ],
   "source": [
    "cross_validate(clf2, trainX, y, cv=5, scoring=\"roc_auc\", n_jobs=-1, return_train_score=True)"
   ]
  },
  {
   "cell_type": "markdown",
   "metadata": {},
   "source": [
    "## 新たな決定木モデルの箱を準備しましょう\n",
    "- 変数clf3とし、今回は特にパラメータはセットしません"
   ]
  },
  {
   "cell_type": "code",
   "execution_count": 11,
   "metadata": {},
   "outputs": [],
   "source": [
    "clf3 = DT()"
   ]
  },
  {
   "cell_type": "markdown",
   "metadata": {},
   "source": [
    "## グリッドサーチを試してみましょう\n",
    "- パラメータの範囲を指定し、その範囲をしらみつぶしに調べることで、最適なパラメータを探索することをグリッドサーチといいます\n",
    "- グリッドサーチ＋クロスバリデーションの組み合わせは良くパラメータ探索の方法として利用されます\n",
    "- まず探索するパラメータの範囲を表す変数parametersを作ります\n",
    "- この変数を作る時、\"カギ\"括弧ではなく、\"波\"括弧であることに注意して下さい\n",
    "- {\"パラメータの名前①\":[範囲], \"パラメータの名前②\":[範囲]...}のように書きます\n",
    "- 今回はmax_depthを2から10まで探索してみます"
   ]
  },
  {
   "cell_type": "code",
   "execution_count": 12,
   "metadata": {},
   "outputs": [],
   "source": [
    "parameters = {\"max_depth\":list(range(2,11))}"
   ]
  },
  {
   "cell_type": "code",
   "execution_count": 13,
   "metadata": {},
   "outputs": [
    {
     "data": {
      "text/plain": [
       "{'max_depth': [2, 3, 4, 5, 6, 7, 8, 9, 10]}"
      ]
     },
     "execution_count": 13,
     "metadata": {},
     "output_type": "execute_result"
    }
   ],
   "source": [
    "parameters"
   ]
  },
  {
   "cell_type": "markdown",
   "metadata": {},
   "source": [
    "## グリッドサーチ+クロスバリデーションで最適なパラメータを探してみましょう"
   ]
  },
  {
   "cell_type": "markdown",
   "metadata": {},
   "source": [
    "- GridSearchCV関数を使います\n",
    "- オプションとして、clf3, parameters, cv=5, scoring=\"roc_auc\",n_jobs=-1と書きます\n",
    "- グリッドサーチの結果は、変数gcvに代入しましょう\n",
    "- その後、fit関数を使って、探索をしましょう"
   ]
  },
  {
   "cell_type": "code",
   "execution_count": 14,
   "metadata": {},
   "outputs": [
    {
     "data": {
      "text/plain": [
       "GridSearchCV(cv=5, error_score='raise-deprecating',\n             estimator=DecisionTreeClassifier(class_weight=None,\n                                              criterion='gini', max_depth=None,\n                                              max_features=None,\n                                              max_leaf_nodes=None,\n                                              min_impurity_decrease=0.0,\n                                              min_impurity_split=None,\n                                              min_samples_leaf=1,\n                                              min_samples_split=2,\n                                              min_weight_fraction_leaf=0.0,\n                                              presort=False, random_state=None,\n                                              splitter='best'),\n             iid='warn', n_jobs=-1,\n             param_grid={'max_depth': [2, 3, 4, 5, 6, 7, 8, 9, 10]},\n             pre_dispatch='2*n_jobs', refit=True, return_train_score=True,\n             scoring='roc_auc', verbose=0)"
      ]
     },
     "execution_count": 14,
     "metadata": {},
     "output_type": "execute_result"
    }
   ],
   "source": [
    "gcv = GridSearchCV(clf3, parameters, cv=5, scoring=\"roc_auc\", n_jobs=-1,return_train_score=True)\n",
    "gcv.fit(trainX, y)"
   ]
  },
  {
   "cell_type": "markdown",
   "metadata": {},
   "source": [
    "## グリッドサーチの結果を見てみましょう\n",
    "- cv_____results_で結果を見る事が出来ます"
   ]
  },
  {
   "cell_type": "code",
   "execution_count": 15,
   "metadata": {},
   "outputs": [
    {
     "data": {
      "text/plain": [
       "{'mean_fit_time': array([0.13962669, 0.13783088, 0.1258635 , 0.17233896, 0.18769774,\n        0.21659608, 0.24055696, 0.26229901, 0.24314981]),\n 'std_fit_time': array([0.02485751, 0.03416833, 0.00324077, 0.01212388, 0.02078084,\n        0.01435298, 0.00465293, 0.01079759, 0.0203942 ]),\n 'mean_score_time': array([0.0321135 , 0.00997324, 0.0083777 , 0.00837731, 0.00817833,\n        0.00777831, 0.01077089, 0.01156921, 0.00678821]),\n 'std_score_time': array([0.0280127 , 0.00351274, 0.00101669, 0.00184989, 0.00116314,\n        0.00074607, 0.00447772, 0.00583603, 0.00097881]),\n 'param_max_depth': masked_array(data=[2, 3, 4, 5, 6, 7, 8, 9, 10],\n              mask=[False, False, False, False, False, False, False, False,\n                    False],\n        fill_value='?',\n             dtype=object),\n 'params': [{'max_depth': 2},\n  {'max_depth': 3},\n  {'max_depth': 4},\n  {'max_depth': 5},\n  {'max_depth': 6},\n  {'max_depth': 7},\n  {'max_depth': 8},\n  {'max_depth': 9},\n  {'max_depth': 10}],\n 'split0_test_score': array([0.74657601, 0.82360265, 0.73033016, 0.74058989, 0.74369939,\n        0.72251104, 0.73602276, 0.71831682, 0.69892022]),\n 'split1_test_score': array([0.76182968, 0.82214585, 0.843183  , 0.8534447 , 0.85840856,\n        0.85291368, 0.86292195, 0.85666136, 0.83728776]),\n 'split2_test_score': array([0.73117591, 0.8075016 , 0.83351987, 0.84179917, 0.83868753,\n        0.84160442, 0.82787609, 0.82881321, 0.80792595]),\n 'split3_test_score': array([0.73708019, 0.75197343, 0.80554008, 0.81561096, 0.82968558,\n        0.85183916, 0.84490539, 0.84172555, 0.82679138]),\n 'split4_test_score': array([0.75909278, 0.83208758, 0.85796085, 0.86203579, 0.86212914,\n        0.84486163, 0.83107634, 0.73056183, 0.71285555]),\n 'mean_test_score': array([0.74715003, 0.80746041, 0.81410356, 0.8226932 , 0.82651942,\n        0.82274436, 0.82055973, 0.79522052, 0.77676088]),\n 'std_test_score': array([0.01195847, 0.02885003, 0.04524916, 0.04393128, 0.04313336,\n        0.0502972 , 0.04404219, 0.05858466, 0.05878885]),\n 'rank_test_score': array([9, 6, 5, 3, 1, 2, 4, 7, 8]),\n 'split0_train_score': array([0.74534692, 0.82168836, 0.84726425, 0.85815618, 0.86983919,\n        0.88432329, 0.90048061, 0.91361733, 0.92615639]),\n 'split1_train_score': array([0.74543889, 0.82283293, 0.84962306, 0.86363422, 0.87428944,\n        0.88433893, 0.89732707, 0.90808259, 0.92255671]),\n 'split2_train_score': array([0.75305367, 0.82675277, 0.85308818, 0.86694448, 0.87728653,\n        0.89234865, 0.90362505, 0.91440617, 0.92673082]),\n 'split3_train_score': array([0.75162308, 0.77022604, 0.8237681 , 0.83736182, 0.85413452,\n        0.8843957 , 0.89809763, 0.90781201, 0.92113933]),\n 'split4_train_score': array([0.74613685, 0.82072363, 0.84693925, 0.8602002 , 0.87072447,\n        0.88435383, 0.89523846, 0.90746983, 0.92471486]),\n 'mean_train_score': array([0.74831988, 0.81244475, 0.84413657, 0.85725938, 0.86925483,\n        0.88595208, 0.89895377, 0.91027759, 0.92425962]),\n 'std_train_score': array([0.00332337, 0.02120866, 0.01041868, 0.01039043, 0.00801225,\n        0.00319838, 0.00287523, 0.00306528, 0.00212358])}"
      ]
     },
     "execution_count": 15,
     "metadata": {},
     "output_type": "execute_result"
    }
   ],
   "source": [
    "gcv.cv_results_"
   ]
  },
  {
   "cell_type": "markdown",
   "metadata": {},
   "source": [
    "## cv_____results_の中で重要な２つをみてみましょう\n",
    "- cv_____results_[\"mean_train_score\"]とcv_____results_[\"mean_test_score\"]です\n",
    "- それぞれ変数train_scoreとtest_scoreに代入しましょう"
   ]
  },
  {
   "cell_type": "code",
   "execution_count": 16,
   "metadata": {},
   "outputs": [],
   "source": [
    "train_score = gcv.cv_results_[\"mean_train_score\"]\n",
    "test_score = gcv.cv_results_[\"mean_test_score\"]"
   ]
  },
  {
   "cell_type": "code",
   "execution_count": 17,
   "metadata": {},
   "outputs": [
    {
     "data": {
      "text/plain": [
       "array([0.74831988, 0.81244475, 0.84413657, 0.85725938, 0.86925483,\n       0.88595208, 0.89895377, 0.91027759, 0.92425962])"
      ]
     },
     "execution_count": 17,
     "metadata": {},
     "output_type": "execute_result"
    }
   ],
   "source": [
    "train_score"
   ]
  },
  {
   "cell_type": "markdown",
   "metadata": {},
   "source": [
    "## train_scoreとtest_scoreを可視化しましょう\n",
    "- x軸をmax_depth、y軸をaucとしてグラフを描きます\n",
    "- 何も設定しないとx軸は0からスタートとなり、実際の値とずれてしまうので、調整が必要です\n",
    "- 調整をする為には、plt.xticks([0,1],[2,3])のように書きます\n",
    "- 上記のオプションの意味は何もしない時に0のものを2とし、1のものを3とする、という意味になります\n",
    "- 今回はmax_depthを2～10まで調べたので9点あります"
   ]
  },
  {
   "cell_type": "code",
   "execution_count": 18,
   "metadata": {},
   "outputs": [
    {
     "data": {
      "text/plain": [
       "([<matplotlib.axis.XTick at 0x270cda8a9e8>,\n  <matplotlib.axis.XTick at 0x270cdc1ae80>,\n  <matplotlib.axis.XTick at 0x270cda52eb8>,\n  <matplotlib.axis.XTick at 0x270cdb2ae80>,\n  <matplotlib.axis.XTick at 0x270cdb3e390>,\n  <matplotlib.axis.XTick at 0x270cdb3e860>,\n  <matplotlib.axis.XTick at 0x270cdb3eda0>,\n  <matplotlib.axis.XTick at 0x270cdb47358>,\n  <matplotlib.axis.XTick at 0x270cdb478d0>,\n  <matplotlib.axis.XTick at 0x270cdb47e48>],\n <a list of 9 Text xticklabel objects>)"
      ]
     },
     "execution_count": 18,
     "metadata": {},
     "output_type": "execute_result"
    },
    {
     "data": {
      "image/png": "[encoded data removed]",
      "text/plain": [
       "<Figure size 432x288 with 1 Axes>"
      ]
     },
     "metadata": {},
     "output_type": "display_data"
    }
   ],
   "source": [
    "plt.plot(train_score)\n",
    "plt.plot(test_score)\n",
    "plt.xticks(list(range(0, 10)), list(range(2, 11)))"
   ]
  },
  {
   "cell_type": "markdown",
   "metadata": {},
   "source": [
    "## グリッドサーチで選ばれたパラメータを確認しましょう\n",
    "- best_____params_で結果を見ることができます"
   ]
  },
  {
   "cell_type": "code",
   "execution_count": 19,
   "metadata": {},
   "outputs": [
    {
     "data": {
      "text/plain": [
       "{'max_depth': 6}"
      ]
     },
     "execution_count": 19,
     "metadata": {},
     "output_type": "execute_result"
    }
   ],
   "source": [
    "gcv.best_params_"
   ]
  },
  {
   "cell_type": "markdown",
   "metadata": {},
   "source": [
    "## testの予測しましょう\n",
    "- gcvもpredict_proba関数を持っており、自動的に最適なパラメータを使ったモデルで予測がされます\n",
    "- 予測結果はpredに代入しましょう。その後、1の確率のみを取り出して、再びpredに代入しましょう"
   ]
  },
  {
   "cell_type": "code",
   "execution_count": 20,
   "metadata": {},
   "outputs": [],
   "source": [
    "pred = gcv.predict_proba(testX)"
   ]
  },
  {
   "cell_type": "code",
   "execution_count": 21,
   "metadata": {},
   "outputs": [
    {
     "data": {
      "text/plain": [
       "array([[0.3390411 , 0.6609589 ],\n       [0.54751131, 0.45248869],\n       [0.98031963, 0.01968037],\n       ...,\n       [0.98031963, 0.01968037],\n       [0.98031963, 0.01968037],\n       [0.98031963, 0.01968037]])"
      ]
     },
     "execution_count": 21,
     "metadata": {},
     "output_type": "execute_result"
    }
   ],
   "source": [
    "pred"
   ]
  },
  {
   "cell_type": "code",
   "execution_count": 22,
   "metadata": {},
   "outputs": [],
   "source": [
    "pred = pred[:, 1]"
   ]
  },
  {
   "cell_type": "markdown",
   "metadata": {},
   "source": [
    "## predをsample[1]に代入してファイル出力し、DeepAnalyticsへ投稿しましょう\n",
    "- ファイル名は「submit3_bank.csv」としましょう\n",
    "- index=None,header=Noneのオプションを忘れないように書きだしましょう"
   ]
  },
  {
   "cell_type": "code",
   "execution_count": 23,
   "metadata": {},
   "outputs": [],
   "source": [
    "sample[1] = pred"
   ]
  },
  {
   "cell_type": "code",
   "execution_count": 24,
   "metadata": {},
   "outputs": [],
   "source": [
    "sample.to_csv(\"bank/submit3_bank.csv\", index=None, header=None)"
   ]
  },
  {
   "cell_type": "markdown",
   "metadata": {},
   "source": [
    "# 実習"
   ]
  },
  {
   "cell_type": "markdown",
   "metadata": {},
   "source": [
    "1.新たな決定木モデルの箱を変数clf4として準備してみよう。パラメータの設定は不要です"
   ]
  },
  {
   "cell_type": "code",
   "execution_count": 25,
   "metadata": {},
   "outputs": [],
   "source": [
    "clf4 = DT()"
   ]
  },
  {
   "cell_type": "markdown",
   "metadata": {},
   "source": [
    "2.max_depthとmin_samples_leafの値の範囲を指定した変数parameters2を作ろう\n",
    "- max_depthは2～10まで、min_samples_leafは[5,10,20,50,100,500]にしましょう"
   ]
  },
  {
   "cell_type": "code",
   "execution_count": 26,
   "metadata": {},
   "outputs": [],
   "source": [
    "parameters2 = {\"max_depth\":list(range(2, 11)), \"min_samples_leaf\":[5,10,20,50,100,500]}"
   ]
  },
  {
   "cell_type": "markdown",
   "metadata": {},
   "source": [
    "3.グリッドサーチ+クロスバリデーションで最適なパラメータを探そう。グリッドサーチの結果は変数gcv2に代入しよう"
   ]
  },
  {
   "cell_type": "code",
   "execution_count": 27,
   "metadata": {},
   "outputs": [
    {
     "data": {
      "text/plain": [
       "GridSearchCV(cv=5, error_score='raise-deprecating',\n             estimator=DecisionTreeClassifier(class_weight=None,\n                                              criterion='gini', max_depth=None,\n                                              max_features=None,\n                                              max_leaf_nodes=None,\n                                              min_impurity_decrease=0.0,\n                                              min_impurity_split=None,\n                                              min_samples_leaf=1,\n                                              min_samples_split=2,\n                                              min_weight_fraction_leaf=0.0,\n                                              presort=False, random_state=None,\n                                              splitter='best'),\n             iid='warn', n_jobs=-1,\n             param_grid={'max_depth': [2, 3, 4, 5, 6, 7, 8, 9, 10],\n                         'min_samples_leaf': [5, 10, 20, 50, 100, 500]},\n             pre_dispatch='2*n_jobs', refit=True, return_train_score=True,\n             scoring='roc_auc', verbose=0)"
      ]
     },
     "execution_count": 27,
     "metadata": {},
     "output_type": "execute_result"
    }
   ],
   "source": [
    "gcv2 = GridSearchCV(clf4, parameters2, cv=5, scoring=\"roc_auc\", n_jobs=-1,return_train_score=True)\n",
    "gcv2.fit(trainX, y)"
   ]
  },
  {
   "cell_type": "markdown",
   "metadata": {},
   "source": [
    "4.最適なパラメータはなんだったか確かめてみよう"
   ]
  },
  {
   "cell_type": "code",
   "execution_count": 28,
   "metadata": {},
   "outputs": [
    {
     "data": {
      "text/plain": [
       "{'max_depth': 10, 'min_samples_leaf': 50}"
      ]
     },
     "execution_count": 28,
     "metadata": {},
     "output_type": "execute_result"
    }
   ],
   "source": [
    "gcv2.best_params_"
   ]
  },
  {
   "cell_type": "markdown",
   "metadata": {},
   "source": [
    "5.testの予測をし、予測結果のうち、１となる確率のみを変数pred2に代入しよう"
   ]
  },
  {
   "cell_type": "code",
   "execution_count": 29,
   "metadata": {},
   "outputs": [],
   "source": [
    "pred2 = gcv2.predict_proba(testX)"
   ]
  },
  {
   "cell_type": "code",
   "execution_count": 30,
   "metadata": {},
   "outputs": [],
   "source": [
    "pred2 = pred2[:, 1]"
   ]
  },
  {
   "cell_type": "markdown",
   "metadata": {},
   "source": [
    "6.pred2をsample[1]に代入して\"submit4_bank.csv\"としてファイル出力し、DeepAnalyticsへ投稿しよう"
   ]
  },
  {
   "cell_type": "code",
   "execution_count": 31,
   "metadata": {},
   "outputs": [],
   "source": [
    "sample[1] = pred2"
   ]
  },
  {
   "cell_type": "code",
   "execution_count": 32,
   "metadata": {},
   "outputs": [],
   "source": [
    "sample.to_csv(\"bank/submit4_bank.csv\", index=None, header=None)"
   ]
  },
  {
   "cell_type": "code",
   "execution_count": 33,
   "metadata": {},
   "outputs": [],
   "source": []
  }
 ],
 "metadata": {
  "kernelspec": {
   "display_name": "Python 3",
   "language": "python",
   "name": "python3"
  },
  "language_info": {
   "codemirror_mode": {
    "name": "ipython",
    "version": 3
   },
   "file_extension": ".py",
   "mimetype": "text/x-python",
   "name": "python",
   "nbconvert_exporter": "python",
   "pygments_lexer": "ipython3",
   "version": "3.7.3"
  }
 },
 "nbformat": 4,
 "nbformat_minor": 2
}
